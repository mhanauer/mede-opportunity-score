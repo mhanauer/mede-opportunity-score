{
  "cells": [
    {
      "cell_type": "code",
      "source": [
        "import pandas as pd\n",
        "import numpy as np\n",
        "\n",
        "# Set the random seed for reproducibility\n",
        "np.random.seed(42)\n",
        "\n",
        "# Generate the initial dataset\n",
        "n = 1000  # Number of data points\n",
        "data = {\n",
        "    'Member ID': np.arange(1, n + 1),\n",
        "    'Age': np.random.randint(18, 90, size=n),\n",
        "    'Gender': np.random.choice(['Male', 'Female'], size=n),\n",
        "    'Number of Chronic Conditions': np.random.randint(0, 6, size=n),\n",
        "    'Generic Rate': np.random.randint(0, 101, size=n),\n",
        "    'Total Claims': np.random.randint(1, 501, size=n),\n",
        "    'Inpatient Percent': np.random.randint(0, 101, size=n)\n",
        "}\n",
        "\n",
        "df = pd.DataFrame(data)\n",
        "\n",
        "# Generate predicted values by applying a random change\n",
        "df['Generic Rate Predicted'] = df['Generic Rate'] + np.random.randint(-10, 11, size=n)\n",
        "df['Total Claims Predicted'] = df['Total Claims'] + np.random.randint(-50, 51, size=n)\n",
        "df['Inpatient Percent Predicted'] = df['Inpatient Percent'] + np.random.randint(-10, 11, size=n)\n",
        "\n",
        "# Calculate adjusted values\n",
        "df['Generic Rate Adjusted'] = df['Generic Rate'] - df['Generic Rate Predicted']\n",
        "df['Total Claims Adjusted'] = df['Total Claims'] - df['Total Claims Predicted']\n",
        "df['Inpatient Percent Adjusted'] = df['Inpatient Percent'] - df['Inpatient Percent Predicted']\n",
        "\n",
        "# Calculate standardized adjusted values\n",
        "df['Generic Rate Adjusted Standardized'] = (df['Generic Rate Adjusted'] - df['Generic Rate Adjusted'].mean()) / df['Generic Rate Adjusted'].std()\n",
        "df['Total Claims Adjusted Standardized'] = (df['Total Claims Adjusted'] - df['Total Claims Adjusted'].mean()) / df['Total Claims Adjusted'].std()\n",
        "df['Inpatient Percent Adjusted Standardized'] = (df['Inpatient Percent Adjusted'] - df['Inpatient Percent Adjusted'].mean()) / df['Inpatient Percent Adjusted'].std()\n",
        "\n",
        "# Reverse the standardized scores for Total Claims and Inpatient Percent\n",
        "df['Total Claims Adjusted Standardized'] *= -1\n",
        "df['Inpatient Percent Adjusted Standardized'] *= -1\n",
        "\n",
        "# Calculate the Mede Opportunity Score\n",
        "df['Mede Opportunity Score'] = (\n",
        "    df['Generic Rate Adjusted Standardized'] +\n",
        "    df['Total Claims Adjusted Standardized'] +\n",
        "    df['Inpatient Percent Adjusted Standardized']\n",
        ")\n",
        "\n",
        "# Round all numerical values to 2 decimal places\n",
        "df = df.round(2)\n",
        "\n",
        "df.head()\n"
      ],
      "outputs": [
        {
          "output_type": "execute_result",
          "execution_count": 3,
          "data": {
            "text/plain": "   Member ID  Age  Gender  Number of Chronic Conditions  Generic Rate  \\\n0          1   69    Male                             5            40   \n1          2   32    Male                             0            32   \n2          3   89  Female                             3            49   \n3          4   78    Male                             1            67   \n4          5   38    Male                             5            70   \n\n   Total Claims  Inpatient Percent  Generic Rate Predicted  \\\n0           264                 67                      44   \n1           263                 68                      38   \n2           292                  0                      44   \n3           274                 67                      59   \n4             3                 11                      72   \n\n   Total Claims Predicted  Inpatient Percent Predicted  Generic Rate Adjusted  \\\n0                     233                           68                     -4   \n1                     267                           59                     -6   \n2                     322                           -7                      5   \n3                     225                           61                      8   \n4                     -23                            3                     -2   \n\n   Total Claims Adjusted  Inpatient Percent Adjusted  \\\n0                     31                          -1   \n1                     -4                           9   \n2                    -30                           7   \n3                     49                           6   \n4                     26                           8   \n\n   Generic Rate Adjusted Standardized  Total Claims Adjusted Standardized  \\\n0                               -0.64                               -1.08   \n1                               -0.98                                0.11   \n2                                0.90                                0.99   \n3                                1.41                               -1.69   \n4                               -0.29                               -0.91   \n\n   Inpatient Percent Adjusted Standardized  Mede Opportunity Score  \n0                                     0.19                   -1.53  \n1                                    -1.45                   -2.32  \n2                                    -1.12                    0.77  \n3                                    -0.96                   -1.24  \n4                                    -1.29                   -2.49  ",
            "text/html": "<div>\n<style scoped>\n    .dataframe tbody tr th:only-of-type {\n        vertical-align: middle;\n    }\n\n    .dataframe tbody tr th {\n        vertical-align: top;\n    }\n\n    .dataframe thead th {\n        text-align: right;\n    }\n</style>\n<table border=\"1\" class=\"dataframe\">\n  <thead>\n    <tr style=\"text-align: right;\">\n      <th></th>\n      <th>Member ID</th>\n      <th>Age</th>\n      <th>Gender</th>\n      <th>Number of Chronic Conditions</th>\n      <th>Generic Rate</th>\n      <th>Total Claims</th>\n      <th>Inpatient Percent</th>\n      <th>Generic Rate Predicted</th>\n      <th>Total Claims Predicted</th>\n      <th>Inpatient Percent Predicted</th>\n      <th>Generic Rate Adjusted</th>\n      <th>Total Claims Adjusted</th>\n      <th>Inpatient Percent Adjusted</th>\n      <th>Generic Rate Adjusted Standardized</th>\n      <th>Total Claims Adjusted Standardized</th>\n      <th>Inpatient Percent Adjusted Standardized</th>\n      <th>Mede Opportunity Score</th>\n    </tr>\n  </thead>\n  <tbody>\n    <tr>\n      <th>0</th>\n      <td>1</td>\n      <td>69</td>\n      <td>Male</td>\n      <td>5</td>\n      <td>40</td>\n      <td>264</td>\n      <td>67</td>\n      <td>44</td>\n      <td>233</td>\n      <td>68</td>\n      <td>-4</td>\n      <td>31</td>\n      <td>-1</td>\n      <td>-0.64</td>\n      <td>-1.08</td>\n      <td>0.19</td>\n      <td>-1.53</td>\n    </tr>\n    <tr>\n      <th>1</th>\n      <td>2</td>\n      <td>32</td>\n      <td>Male</td>\n      <td>0</td>\n      <td>32</td>\n      <td>263</td>\n      <td>68</td>\n      <td>38</td>\n      <td>267</td>\n      <td>59</td>\n      <td>-6</td>\n      <td>-4</td>\n      <td>9</td>\n      <td>-0.98</td>\n      <td>0.11</td>\n      <td>-1.45</td>\n      <td>-2.32</td>\n    </tr>\n    <tr>\n      <th>2</th>\n      <td>3</td>\n      <td>89</td>\n      <td>Female</td>\n      <td>3</td>\n      <td>49</td>\n      <td>292</td>\n      <td>0</td>\n      <td>44</td>\n      <td>322</td>\n      <td>-7</td>\n      <td>5</td>\n      <td>-30</td>\n      <td>7</td>\n      <td>0.90</td>\n      <td>0.99</td>\n      <td>-1.12</td>\n      <td>0.77</td>\n    </tr>\n    <tr>\n      <th>3</th>\n      <td>4</td>\n      <td>78</td>\n      <td>Male</td>\n      <td>1</td>\n      <td>67</td>\n      <td>274</td>\n      <td>67</td>\n      <td>59</td>\n      <td>225</td>\n      <td>61</td>\n      <td>8</td>\n      <td>49</td>\n      <td>6</td>\n      <td>1.41</td>\n      <td>-1.69</td>\n      <td>-0.96</td>\n      <td>-1.24</td>\n    </tr>\n    <tr>\n      <th>4</th>\n      <td>5</td>\n      <td>38</td>\n      <td>Male</td>\n      <td>5</td>\n      <td>70</td>\n      <td>3</td>\n      <td>11</td>\n      <td>72</td>\n      <td>-23</td>\n      <td>3</td>\n      <td>-2</td>\n      <td>26</td>\n      <td>8</td>\n      <td>-0.29</td>\n      <td>-0.91</td>\n      <td>-1.29</td>\n      <td>-2.49</td>\n    </tr>\n  </tbody>\n</table>\n</div>"
          },
          "metadata": {}
        }
      ],
      "execution_count": 3,
      "metadata": {
        "gather": {
          "logged": 1722967684930
        }
      }
    }
  ],
  "metadata": {
    "kernelspec": {
      "name": "python310-sdkv2",
      "language": "python",
      "display_name": "Python 3.10 - SDK v2"
    },
    "language_info": {
      "name": "python",
      "version": "3.10.11",
      "mimetype": "text/x-python",
      "codemirror_mode": {
        "name": "ipython",
        "version": 3
      },
      "pygments_lexer": "ipython3",
      "nbconvert_exporter": "python",
      "file_extension": ".py"
    },
    "microsoft": {
      "ms_spell_check": {
        "ms_spell_check_language": "en"
      }
    },
    "kernel_info": {
      "name": "python310-sdkv2"
    },
    "nteract": {
      "version": "nteract-front-end@1.0.0"
    }
  },
  "nbformat": 4,
  "nbformat_minor": 2
}